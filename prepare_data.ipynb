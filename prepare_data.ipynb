{
 "cells": [
  {
   "cell_type": "markdown",
   "id": "75003709",
   "metadata": {},
   "source": [
    "### load and preprocess"
   ]
  },
  {
   "cell_type": "code",
   "execution_count": null,
   "id": "672f591f",
   "metadata": {},
   "outputs": [],
   "source": [
    "import numpy as np\n",
    "import pandas as pd\n",
    "from matplotlib import pyplot as plt\n",
    "\n",
    "from src.utils import inspect_nulls, pop_datetime\n",
    "from src.preprocessing import (\n",
    "    to_datetime,\n",
    "    drop_full_nulls,\n",
    "    try_drop_shared_nulls,\n",
    "    drop_full_zero,\n",
    "    normalize,\n",
    ")\n",
    "\n",
    "with open(\"data/energy_dataset.csv\") as file:\n",
    "    en = pd.read_csv(file, sep=\",\")\n",
    "    en.name = \"energy\"\n",
    "\n",
    "# create datetime column\n",
    "en = to_datetime(en, \"time\")\n",
    "\n",
    "# drop features with only zero values\n",
    "en = drop_full_zero(en)\n",
    "\n",
    "# nulls imputation\n",
    "en = drop_full_nulls(en)\n",
    "if en.datetime.diff().dt.total_seconds().value_counts().shape[0] == 1:\n",
    "    en = en.interpolate(method=\"linear\")\n",
    "else:\n",
    "    display(\"timestamps not evenly interpolate... chto delat?\")\n",
    "    #en = try_drop_shared_nulls(en, any_null=True)\n",
    "\n",
    "# datetime as index\n",
    "#en_norm.set_index(keys=\"datetime\", inplace=True)\n",
    "\n",
    "display(inspect_nulls(en))"
   ]
  },
  {
   "cell_type": "markdown",
   "id": "72399c5b",
   "metadata": {},
   "source": [
    "### train/test splitting\n",
    "at this stage:\n",
    "* train/test only, w/o validation subset\n",
    "* next contains previous training subset XOR non-overlapping subsets\n",
    "* 80-20 ratio "
   ]
  },
  {
   "cell_type": "code",
   "execution_count": null,
   "id": "540597b8",
   "metadata": {},
   "outputs": [],
   "source": [
    "train_test_split_ratio = 0.8\n",
    "train_en = en[:round(en.shape[0]*train_test_split_ratio)]\n",
    "test_en = en[round(en.shape[0]*train_test_split_ratio):]\n",
    "display(train_en.shape, test_en.shape)"
   ]
  },
  {
   "cell_type": "markdown",
   "id": "101d372d",
   "metadata": {},
   "source": [
    "### batch and target"
   ]
  },
  {
   "cell_type": "code",
   "execution_count": null,
   "id": "481fb393",
   "metadata": {},
   "outputs": [],
   "source": [
    "features = [\"total load actual\"]\n",
    "df = normalize(train_en[features])\n",
    "df.describe()"
   ]
  },
  {
   "cell_type": "code",
   "execution_count": null,
   "id": "23d4c3e8",
   "metadata": {},
   "outputs": [],
   "source": [
    "n_batches = 100\n",
    "window = df.shape[0] // n_batches\n",
    "batch_arrays = {key: None for key in df.columns}\n",
    "batch_targets = {key: None for key in df.columns}\n",
    "for feature in df.columns:\n",
    "    arr = df[feature].to_numpy()\n",
    "    batch_arrays[feature] = {\n",
    "        batch_idx: arr[batch_idx * window : (batch_idx + 1) * window]\n",
    "        for batch_idx in range(n_batches)\n",
    "    }\n",
    "    batch_targets[feature] = {batch_idx: arr[(batch_idx + 1) * window]\n",
    "        for batch_idx in range(n_batches)\n",
    "    }\n"
   ]
  },
  {
   "cell_type": "code",
   "execution_count": null,
   "id": "b76a7440",
   "metadata": {},
   "outputs": [],
   "source": [
    "batch_targets"
   ]
  },
  {
   "cell_type": "code",
   "execution_count": null,
   "id": "d5b469ea",
   "metadata": {},
   "outputs": [],
   "source": []
  }
 ],
 "metadata": {
  "kernelspec": {
   "display_name": ".ts",
   "language": "python",
   "name": "python3"
  },
  "language_info": {
   "codemirror_mode": {
    "name": "ipython",
    "version": 3
   },
   "file_extension": ".py",
   "mimetype": "text/x-python",
   "name": "python",
   "nbconvert_exporter": "python",
   "pygments_lexer": "ipython3",
   "version": "3.12.3"
  }
 },
 "nbformat": 4,
 "nbformat_minor": 5
}

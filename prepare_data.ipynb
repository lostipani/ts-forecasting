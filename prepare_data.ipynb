{
 "cells": [
  {
   "cell_type": "markdown",
   "id": "75003709",
   "metadata": {},
   "source": [
    "### load and preprocess"
   ]
  },
  {
   "cell_type": "code",
   "execution_count": 11,
   "id": "672f591f",
   "metadata": {},
   "outputs": [
    {
     "data": {
      "text/plain": [
       "datetime                                       0.0\n",
       "generation biomass                             0.0\n",
       "generation fossil brown coal/lignite           0.0\n",
       "generation fossil coal-derived gas             0.0\n",
       "generation fossil gas                          0.0\n",
       "generation fossil hard coal                    0.0\n",
       "generation fossil oil                          0.0\n",
       "generation fossil oil shale                    0.0\n",
       "generation fossil peat                         0.0\n",
       "generation geothermal                          0.0\n",
       "generation hydro pumped storage consumption    0.0\n",
       "generation hydro run-of-river and poundage     0.0\n",
       "generation hydro water reservoir               0.0\n",
       "generation marine                              0.0\n",
       "generation nuclear                             0.0\n",
       "generation other                               0.0\n",
       "generation other renewable                     0.0\n",
       "generation solar                               0.0\n",
       "generation waste                               0.0\n",
       "generation wind offshore                       0.0\n",
       "generation wind onshore                        0.0\n",
       "forecast solar day ahead                       0.0\n",
       "forecast wind onshore day ahead                0.0\n",
       "total load forecast                            0.0\n",
       "total load actual                              0.0\n",
       "price day ahead                                0.0\n",
       "price actual                                   0.0\n",
       "dtype: float64"
      ]
     },
     "metadata": {},
     "output_type": "display_data"
    }
   ],
   "source": [
    "import numpy as np\n",
    "import pandas as pd\n",
    "from matplotlib import pyplot as plt\n",
    "\n",
    "from src.utils import inspect_nulls, pop_datetime\n",
    "from src.preprocessing import (\n",
    "    to_datetime,\n",
    "    drop_full_nulls,\n",
    "    try_drop_shared_nulls,\n",
    "    drop_full_zero,\n",
    ")\n",
    "from src.preparation import train_test_split, make_batches, make_sequences\n",
    "\n",
    "with open(\"data/energy_dataset.csv\") as file:\n",
    "    en = pd.read_csv(file, sep=\",\")\n",
    "    en.name = \"energy\"\n",
    "\n",
    "# create datetime column\n",
    "en = to_datetime(en, \"time\")\n",
    "\n",
    "# drop features with only zero values\n",
    "en = drop_full_zero(en)\n",
    "\n",
    "# nulls imputation\n",
    "en = drop_full_nulls(en)\n",
    "if en.datetime.diff().dt.total_seconds().value_counts().shape[0] == 1:\n",
    "    en = en.interpolate(method=\"linear\")\n",
    "else:\n",
    "    display(\"timestamps not evenly interpolate... chto delat?\")\n",
    "    #en = try_drop_shared_nulls(en, any_null=True)\n",
    "\n",
    "# datetime as index\n",
    "#en_norm.set_index(keys=\"datetime\", inplace=True)\n",
    "\n",
    "display(inspect_nulls(en))"
   ]
  },
  {
   "cell_type": "markdown",
   "id": "72399c5b",
   "metadata": {},
   "source": [
    "### train/test splitting\n",
    "at this stage:\n",
    "* train/test only, w/o validation subset\n",
    "* next contains previous training subset XOR non-overlapping subsets\n",
    "* 80-20 ratio "
   ]
  },
  {
   "cell_type": "code",
   "execution_count": 12,
   "id": "540597b8",
   "metadata": {},
   "outputs": [
    {
     "name": "stdout",
     "output_type": "stream",
     "text": [
      "train size: (28051, 27) test size: (7013, 27)\n"
     ]
    }
   ],
   "source": [
    "train_test_split_ratio = 0.8\n",
    "train_en, test_en = train_test_split(en, 0.8, normalise=True)"
   ]
  },
  {
   "cell_type": "markdown",
   "id": "101d372d",
   "metadata": {},
   "source": [
    "### batches"
   ]
  },
  {
   "cell_type": "code",
   "execution_count": 13,
   "id": "72e3d281",
   "metadata": {},
   "outputs": [],
   "source": [
    "features = [\"total load actual\", \"price actual\"]"
   ]
  },
  {
   "cell_type": "code",
   "execution_count": 14,
   "id": "23d4c3e8",
   "metadata": {},
   "outputs": [
    {
     "name": "stdout",
     "output_type": "stream",
     "text": [
      "To have uniform sequences, indexes dropped: [0:74]\n",
      "Number of sequences: 277\n"
     ]
    }
   ],
   "source": [
    "# | samples_to_drop | observations | offset | targets | observations | offset | targets | ...\n",
    "#                    <----------sequence 1-----------> <-----------sequence 2----------> ...\n",
    "\n",
    "observations = 100\n",
    "offset = 0\n",
    "targets = 1\n",
    "sequences_observations, sequences_targets = make_sequences(\n",
    "    train_en[features], observations=100, offset=0, targets=1\n",
    ")"
   ]
  },
  {
   "cell_type": "code",
   "execution_count": null,
   "id": "e2907030",
   "metadata": {},
   "outputs": [],
   "source": [
    "# | sequence 1 | sequence 2 | sequence 3 | sequence 4 | ...\n",
    "#  <-------------- batch 1 -------------> <------- batch 2 ----   \n",
    "\n",
    "batches_observations = make_batches(sequences_observations, n_sequences_per_batch=3)\n",
    "batches_targets = make_batches(sequences_targets, n_sequences_per_batch=3)"
   ]
  },
  {
   "cell_type": "code",
   "execution_count": null,
   "id": "a5af108d",
   "metadata": {},
   "outputs": [],
   "source": []
  }
 ],
 "metadata": {
  "kernelspec": {
   "display_name": ".ts",
   "language": "python",
   "name": "python3"
  },
  "language_info": {
   "codemirror_mode": {
    "name": "ipython",
    "version": 3
   },
   "file_extension": ".py",
   "mimetype": "text/x-python",
   "name": "python",
   "nbconvert_exporter": "python",
   "pygments_lexer": "ipython3",
   "version": "3.12.3"
  }
 },
 "nbformat": 4,
 "nbformat_minor": 5
}

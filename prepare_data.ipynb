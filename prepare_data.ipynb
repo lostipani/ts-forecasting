{
 "cells": [
  {
   "cell_type": "markdown",
   "id": "75003709",
   "metadata": {},
   "source": [
    "### load and preprocess"
   ]
  },
  {
   "cell_type": "code",
   "execution_count": null,
   "id": "672f591f",
   "metadata": {},
   "outputs": [],
   "source": [
    "import numpy as np\n",
    "import pandas as pd\n",
    "from matplotlib import pyplot as plt\n",
    "\n",
    "from src.utils import inspect_nulls\n",
    "from src.preprocessing import (\n",
    "    to_datetime,\n",
    "    drop_full_nulls,\n",
    "    try_drop_shared_nulls,\n",
    "    drop_full_zero,\n",
    "    normalize,\n",
    "    interpolate\n",
    ")\n",
    "\n",
    "with open(\"data/energy_dataset.csv\") as file:\n",
    "    en = pd.read_csv(file, sep=\",\")\n",
    "    en.name = \"energy\"\n",
    "\n",
    "# create datetime column\n",
    "en = to_datetime(en, \"time\")\n",
    "\n",
    "# drop features with only zero values\n",
    "en = drop_full_zero(en)\n",
    "\n",
    "# nulls imputation\n",
    "en = drop_full_nulls(en)\n",
    "en = interpolate(en, method=\"time\")\n",
    "#en = try_drop_shared_nulls(en, any_null=True)\n",
    "\n",
    "# normalization\n",
    "en_norm = normalize(en)\n",
    "\n",
    "# datetime as index\n",
    "#en_norm.set_index(keys=\"datetime\", inplace=True)"
   ]
  },
  {
   "cell_type": "code",
   "execution_count": null,
   "id": "7485a5a2",
   "metadata": {},
   "outputs": [],
   "source": [
    "with open(\"data/energy_dataset.csv\") as file:\n",
    "    en = pd.read_csv(file, sep=\",\")\n",
    "    en.name = \"energy\"\n",
    "\n",
    "# create datetime column\n",
    "en = to_datetime(en, \"time\")\n",
    "\n",
    "en = en.set_index(keys=\"datetime\")\n",
    "datetime = en.index.to_series()\n",
    "display(datetime)\n",
    "en.reset_index(inplace=True)\n",
    "en[\"datetime\"] = datetime\n",
    "en"
   ]
  },
  {
   "cell_type": "markdown",
   "id": "101d372d",
   "metadata": {},
   "source": [
    "## prepare dataset"
   ]
  },
  {
   "cell_type": "code",
   "execution_count": null,
   "id": "e9a4e2be",
   "metadata": {},
   "outputs": [],
   "source": [
    "feature = [\"datetime\", \"total load actual\"]\n",
    "df = en_norm[feature]"
   ]
  },
  {
   "cell_type": "markdown",
   "id": "fb227e12",
   "metadata": {},
   "source": [
    "### timestamp spacing"
   ]
  },
  {
   "cell_type": "code",
   "execution_count": null,
   "id": "7874ecdc",
   "metadata": {},
   "outputs": [],
   "source": [
    "display(df.datetime.diff().dt.total_seconds().value_counts())\n",
    "\n",
    "plt.plot(df.datetime.diff().dt.total_seconds()/3600, '-*')\n",
    "plt.ylabel(\"hours\")\n",
    "plt.show()"
   ]
  }
 ],
 "metadata": {
  "kernelspec": {
   "display_name": "timeseries",
   "language": "python",
   "name": "python3"
  },
  "language_info": {
   "codemirror_mode": {
    "name": "ipython",
    "version": 3
   },
   "file_extension": ".py",
   "mimetype": "text/x-python",
   "name": "python",
   "nbconvert_exporter": "python",
   "pygments_lexer": "ipython3",
   "version": "3.11.13"
  }
 },
 "nbformat": 4,
 "nbformat_minor": 5
}

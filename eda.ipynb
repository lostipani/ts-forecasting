{
 "cells": [
  {
   "cell_type": "code",
   "execution_count": null,
   "id": "27e1948f",
   "metadata": {},
   "outputs": [],
   "source": [
    "import pandas as pd\n",
    "import seaborn as sns\n",
    "from matplotlib import pyplot as plt\n",
    "\n",
    "from src.utils import inspect_std_iqr\n",
    "from src.preprocessing import normalize, try_drop_shared_nulls, drop_full_zero, to_datetime, drop_full_nulls"
   ]
  },
  {
   "cell_type": "markdown",
   "id": "3596ff40",
   "metadata": {},
   "source": [
    "### load"
   ]
  },
  {
   "cell_type": "code",
   "execution_count": null,
   "id": "98175090",
   "metadata": {},
   "outputs": [],
   "source": [
    "with open(\"data/energy_dataset.csv\") as file:\n",
    "    en = pd.read_csv(file, sep=\",\")\n",
    "    en.name = \"energy\"\n",
    "\n",
    "# create datetime column\n",
    "en = to_datetime(en, \"time\")"
   ]
  },
  {
   "cell_type": "markdown",
   "id": "16bbef20",
   "metadata": {},
   "source": [
    "### clean data"
   ]
  },
  {
   "cell_type": "code",
   "execution_count": null,
   "id": "5d3740bd",
   "metadata": {},
   "outputs": [],
   "source": [
    "# drop nulls\n",
    "en = drop_full_nulls(en)\n",
    "en = try_drop_shared_nulls(en, any_null=True)\n",
    "\n",
    "# drop features with only zero values\n",
    "en = drop_full_zero(en)\n",
    "\n",
    "# recap\n",
    "desc = en.describe()\n",
    "display(desc)"
   ]
  },
  {
   "cell_type": "markdown",
   "id": "896cdb3f",
   "metadata": {},
   "source": [
    "### normalization"
   ]
  },
  {
   "cell_type": "code",
   "execution_count": null,
   "id": "fb523b4c",
   "metadata": {},
   "outputs": [],
   "source": [
    "display(inspect_std_iqr(en))"
   ]
  },
  {
   "cell_type": "code",
   "execution_count": null,
   "id": "51401126",
   "metadata": {},
   "outputs": [],
   "source": [
    "en_norm = normalize(en)\n",
    "en_norm.boxplot(figsize=(15, 5), rot=90)"
   ]
  },
  {
   "cell_type": "code",
   "execution_count": null,
   "id": "478dd07a",
   "metadata": {},
   "outputs": [],
   "source": [
    "en_norm.datetime"
   ]
  },
  {
   "cell_type": "markdown",
   "id": "fbed3b96",
   "metadata": {},
   "source": [
    "### statistics"
   ]
  },
  {
   "cell_type": "code",
   "execution_count": null,
   "id": "b31ad9ab",
   "metadata": {},
   "outputs": [],
   "source": [
    "df = en_norm.copy()"
   ]
  },
  {
   "cell_type": "code",
   "execution_count": null,
   "id": "11f4ff6e",
   "metadata": {},
   "outputs": [],
   "source": [
    "corr = df[df.columns[~df.columns.isin([\"datetime\"])]].corr()\n",
    "sns.heatmap(\n",
    "    corr,\n",
    "    vmin=-1.0,\n",
    "    vmax=1.0,\n",
    "    cmap=\"crest\",\n",
    "    xticklabels=corr.columns.values,\n",
    "    yticklabels=corr.columns.values,\n",
    "    annot=False,\n",
    ")\n",
    "plt.show()"
   ]
  },
  {
   "cell_type": "code",
   "execution_count": null,
   "id": "848d0b77",
   "metadata": {},
   "outputs": [],
   "source": [
    "fig, axs = plt.subplots(nrows=1, ncols=2, figsize=(10, 5))\n",
    "df.plot(x=\"datetime\", y=[\"total load actual\"], ax=axs[0])\n",
    "df.hist(column=[\"total load actual\"], bins=100, ax=axs[1])\n",
    "plt.show()"
   ]
  },
  {
   "cell_type": "code",
   "execution_count": null,
   "id": "df5918e5",
   "metadata": {},
   "outputs": [],
   "source": [
    "df[\"diff: total load actual\"] = df[\"total load actual\"].diff()\n",
    "fig, axs = plt.subplots(nrows=1, ncols=2, figsize=(10, 5))\n",
    "df.plot(x=\"datetime\", y=[\"diff: total load actual\"], ax=axs[0])\n",
    "df.hist(column=[\"diff: total load actual\"], bins=100, ax=axs[1])\n",
    "plt.show()"
   ]
  },
  {
   "cell_type": "code",
   "execution_count": null,
   "id": "58b5584f",
   "metadata": {},
   "outputs": [],
   "source": []
  }
 ],
 "metadata": {
  "kernelspec": {
   "display_name": "timeseries",
   "language": "python",
   "name": "python3"
  },
  "language_info": {
   "codemirror_mode": {
    "name": "ipython",
    "version": 3
   },
   "file_extension": ".py",
   "mimetype": "text/x-python",
   "name": "python",
   "nbconvert_exporter": "python",
   "pygments_lexer": "ipython3",
   "version": "3.11.13"
  }
 },
 "nbformat": 4,
 "nbformat_minor": 5
}

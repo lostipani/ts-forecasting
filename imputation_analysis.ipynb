{
 "cells": [
  {
   "cell_type": "code",
   "execution_count": null,
   "id": "c575160f",
   "metadata": {},
   "outputs": [],
   "source": [
    "import pandas as pd\n",
    "import seaborn as sns\n",
    "from matplotlib import pyplot as plt\n",
    "\n",
    "from src.utils import inspect_std_iqr, pop_datetime\n",
    "from src.preprocessing import normalize, try_drop_shared_nulls, drop_full_zero, to_datetime, drop_full_nulls\n",
    "\n",
    "with open(\"data/energy_dataset.csv\") as file:\n",
    "    en = pd.read_csv(file, sep=\",\")\n",
    "    en.name = \"energy\"\n",
    "\n",
    "# create datetime column\n",
    "en = to_datetime(en, \"time\")\n",
    "display(en.shape)\n",
    "display(en.columns)"
   ]
  },
  {
   "cell_type": "markdown",
   "id": "7e905910",
   "metadata": {},
   "source": [
    "### evenly spaced timestamps"
   ]
  },
  {
   "cell_type": "code",
   "execution_count": null,
   "id": "357d8745",
   "metadata": {},
   "outputs": [],
   "source": [
    "display(en.datetime.diff().dt.total_seconds().value_counts())\n",
    "\n",
    "plt.plot(en.datetime.diff().dt.total_seconds()/3600, '-*')\n",
    "plt.ylabel(\"hours\")\n",
    "plt.show()"
   ]
  },
  {
   "cell_type": "markdown",
   "id": "c196c840",
   "metadata": {},
   "source": [
    "### remove nulls creates unevenly spaced timestamps"
   ]
  },
  {
   "cell_type": "code",
   "execution_count": null,
   "id": "f410de72",
   "metadata": {},
   "outputs": [],
   "source": [
    "no_nulls = drop_full_nulls(en)\n",
    "no_nulls = try_drop_shared_nulls(no_nulls, any_null=True)\n",
    "\n",
    "display(no_nulls.datetime.diff().dt.total_seconds().value_counts())\n",
    "\n",
    "plt.plot(no_nulls.datetime.diff().dt.total_seconds()/3600, '-*')\n",
    "plt.ylabel(\"hours\")\n",
    "plt.show()"
   ]
  },
  {
   "cell_type": "markdown",
   "id": "075f100e",
   "metadata": {},
   "source": [
    "### let us try to keep the rows and interpolate nulls instead"
   ]
  },
  {
   "cell_type": "code",
   "execution_count": null,
   "id": "3533ec30",
   "metadata": {},
   "outputs": [],
   "source": [
    "# show indexes of nulls for \"total load actual\" feature\n",
    "display(en[en[\"total load actual\"].isna()].index)"
   ]
  },
  {
   "cell_type": "code",
   "execution_count": null,
   "id": "e783392e",
   "metadata": {},
   "outputs": [],
   "source": [
    "df = en.copy(deep=True)\n",
    "_, df = pop_datetime(df)\n",
    "df = df[\"total load actual\"]\n",
    "for method in [\"linear\", \"quadratic\", \"cubic\"]:\n",
    "    tmp_df = df.interpolate(method=method)\n",
    "\n",
    "    _, axs = plt.subplots(nrows=1, ncols=2)\n",
    "    axs[1].plot(en[\"total load actual\"],'r*')\n",
    "    axs[1].plot(tmp_df.values,'b-')\n",
    "    axs[1].set_xlim([730,780])\n",
    "    axs[0].plot(en[\"total load actual\"],'r*')\n",
    "    axs[0].plot(tmp_df.values,'b-')\n",
    "    axs[0].set_xlim([100,125])\n",
    "    plt.title(method)\n",
    "    plt.show()\n"
   ]
  },
  {
   "cell_type": "code",
   "execution_count": null,
   "id": "46dc4d5f",
   "metadata": {},
   "outputs": [],
   "source": [
    "display(en.datetime.diff().dt.total_seconds().value_counts())\n",
    "\n",
    "plt.plot(en.datetime.diff().dt.total_seconds()/3600, '-*')\n",
    "plt.ylabel(\"hours\")\n",
    "plt.show()"
   ]
  },
  {
   "cell_type": "markdown",
   "id": "6a45ed98",
   "metadata": {},
   "source": [
    "### conclusions\n",
    "* no need for higher than linear interpolation methods\n",
    "* remove nulls and resampling on removed timestamps with avg is equivalent to linear interpolation\n",
    "* I'd stick to a straightforward linear interpolation and dropping only full- null/zero columns"
   ]
  }
 ],
 "metadata": {
  "kernelspec": {
   "display_name": ".ts",
   "language": "python",
   "name": "python3"
  },
  "language_info": {
   "codemirror_mode": {
    "name": "ipython",
    "version": 3
   },
   "file_extension": ".py",
   "mimetype": "text/x-python",
   "name": "python",
   "nbconvert_exporter": "python",
   "pygments_lexer": "ipython3",
   "version": "3.12.3"
  }
 },
 "nbformat": 4,
 "nbformat_minor": 5
}
